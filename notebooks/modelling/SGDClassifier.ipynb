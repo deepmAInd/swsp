{
 "cells": [
  {
   "cell_type": "code",
   "execution_count": 1,
   "metadata": {
    "collapsed": true
   },
   "outputs": [],
   "source": [
    "import os\n",
    "import time\n",
    "import pickle\n",
    "\n",
    "import numpy as np\n",
    "import pandas as pd\n",
    "import plotly_express as px\n",
    "from sklearn.discriminant_analysis import QuadraticDiscriminantAnalysis\n",
    "import sklearn.metrics as metrics\n",
    "from sklearn import model_selection\n",
    "from sklearn.naive_bayes import MultinomialNB\n",
    "from sklearn.svm import LinearSVC\n",
    "from sklearn.linear_model import SGDClassifier\n",
    "from sklearn.model_selection import GridSearchCV"
   ]
  },
  {
   "cell_type": "code",
   "execution_count": 12,
   "outputs": [],
   "source": [
    "TOP5_FEATURES = ['net_acc_std', 'net_acc_max', 'EDA_tonic_mean', 'EDA_tonic_min',  'EDA_tonic_max', 'label']\n",
    "TOP10_FEATURES = [\n",
    "    \"net_acc_std\",\n",
    "    \"net_acc_max\",\n",
    "    \"EDA_tonic_mean\",\n",
    "    \"EDA_tonic_min\",\n",
    "    \"EDA_tonic_max\",\n",
    "    \"EDA_smna_mean\",\n",
    "    \"EDA_smna_std\",\n",
    "    \"EDA_smna_min\",\n",
    "    \"EDA_smna_max\",\n",
    "    \"EDA_phasic_min\",\n",
    "    \"label\"\n",
    "]\n",
    "TOP_EDA_FEATURES = [\"EDA_smna_mean\", \"EDA_phasic_min\", \"EDA_tonic_mean\", \"EDA_tonic_min\", \"EDA_tonic_max\", \"label\"]\n",
    "\n",
    "STRESS = {\n",
    "    0: \"amusement\", 1: \"baseline\", 2: \"stress\"\n",
    "}\n",
    "STRESS_MAP = {\n",
    "    1: 0,\n",
    "    2: 1\n",
    "}"
   ],
   "metadata": {
    "collapsed": false
   }
  },
  {
   "cell_type": "code",
   "execution_count": 13,
   "outputs": [],
   "source": [
    "def prepare_dataset(dataset_name, features):\n",
    "    data = pd.read_csv(f'../../data/03_primary/{dataset_name}/combined_subjects.csv')\n",
    "    df = data.loc[:, data.columns.intersection(features)]\n",
    "    df = df[df.label != 0]\n",
    "    Y_ = df.label.map(STRESS_MAP)\n",
    "    X_ = df.drop(columns=['label'])\n",
    "    return model_selection.train_test_split(X_, Y_, test_size=0.25, random_state=42, stratify=Y_)"
   ],
   "metadata": {
    "collapsed": false
   }
  },
  {
   "cell_type": "code",
   "execution_count": 14,
   "outputs": [],
   "source": [
    "def train(m, dataset_name, features):\n",
    "    X, x, Y, y = prepare_dataset(dataset_name, features)\n",
    "    start_time = time.time()\n",
    "    result = m.fit(X, Y).predict(x)\n",
    "    print(f\"Finished in: {time.time() - start_time:.2f} seconds\")\n",
    "    print(\"Accuracy: {:.2f}%\".format(metrics.accuracy_score(y, result) * 100))\n",
    "    print(\"Balanced Accuracy: {:.2f}%\".format(metrics.balanced_accuracy_score(y, result) * 100))\n",
    "    print(\"F1 Score: {0:.2f}\".format(metrics.f1_score(y, result, average='macro')))\n",
    "    print(\"Precision: {0:.2f}\".format(metrics.precision_score(y, result, average='macro')))\n",
    "    print(\"Recall: {0:.2f}\".format(metrics.recall_score(y, result, average='macro')))\n",
    "    print(\"R2 Score: {0:.2f}\".format(metrics.r2_score(y, result)))"
   ],
   "metadata": {
    "collapsed": false
   }
  },
  {
   "cell_type": "code",
   "execution_count": 5,
   "outputs": [],
   "source": [
    "X_train, X_test, y_train, y_test = prepare_dataset('WESAD_preprocessed_int15_add15')"
   ],
   "metadata": {
    "collapsed": false
   }
  },
  {
   "cell_type": "code",
   "execution_count": 6,
   "outputs": [
    {
     "name": "stderr",
     "output_type": "stream",
     "text": [
      "C:\\Users\\ratus\\anaconda3\\envs\\ex\\lib\\site-packages\\sklearn\\model_selection\\_validation.py:378: FitFailedWarning: \n",
      "12960 fits failed out of a total of 17280.\n",
      "The score on these train-test partitions for these parameters will be set to nan.\n",
      "If these failures are not expected, you can try to debug them by setting error_score='raise'.\n",
      "\n",
      "Below are more details about the failures:\n",
      "--------------------------------------------------------------------------------\n",
      "12960 fits failed with the following error:\n",
      "Traceback (most recent call last):\n",
      "  File \"C:\\Users\\ratus\\anaconda3\\envs\\ex\\lib\\site-packages\\sklearn\\model_selection\\_validation.py\", line 686, in _fit_and_score\n",
      "    estimator.fit(X_train, y_train, **fit_params)\n",
      "  File \"C:\\Users\\ratus\\anaconda3\\envs\\ex\\lib\\site-packages\\sklearn\\linear_model\\_stochastic_gradient.py\", line 890, in fit\n",
      "    return self._fit(\n",
      "  File \"C:\\Users\\ratus\\anaconda3\\envs\\ex\\lib\\site-packages\\sklearn\\linear_model\\_stochastic_gradient.py\", line 658, in _fit\n",
      "    self._validate_params()\n",
      "  File \"C:\\Users\\ratus\\anaconda3\\envs\\ex\\lib\\site-packages\\sklearn\\linear_model\\_stochastic_gradient.py\", line 148, in _validate_params\n",
      "    raise ValueError(\"eta0 must be > 0\")\n",
      "ValueError: eta0 must be > 0\n",
      "\n",
      "  warnings.warn(some_fits_failed_message, FitFailedWarning)\n",
      "C:\\Users\\ratus\\anaconda3\\envs\\ex\\lib\\site-packages\\sklearn\\model_selection\\_search.py:953: UserWarning: One or more of the test scores are non-finite: [nan nan nan ... nan nan nan]\n",
      "  warnings.warn(\n",
      "C:\\Users\\ratus\\anaconda3\\envs\\ex\\lib\\site-packages\\sklearn\\model_selection\\_search.py:953: UserWarning: One or more of the train scores are non-finite: [nan nan nan ... nan nan nan]\n",
      "  warnings.warn(\n"
     ]
    }
   ],
   "source": [
    "svc = SGDClassifier()\n",
    "\n",
    "param_grid={\n",
    "               'loss': ['hinge', 'log_loss', 'modified_huber', 'squared_hinge', 'perceptron', 'squared_error', 'huber', 'epsilon_insensitive', 'squared_epsilon_insensitive'],\n",
    "               'random_state': [42],\n",
    "               'class_weight': [None, 'balanced'],\n",
    "               'tol': [1e-06, 1e-05, 1e-04, 1e-03],\n",
    "               'max_iter': [250, 500, 1000, 2000],\n",
    "               'penalty': ['l2', 'l1', 'elasticnet'],\n",
    "               'learning_rate': ['constant', 'optimal', 'invscaling', 'adaptive']\n",
    "           },\n",
    "\n",
    "model = GridSearchCV(svc, param_grid, return_train_score=True)\n",
    "search = model.fit(X_train, y_train)"
   ],
   "metadata": {
    "collapsed": false
   }
  },
  {
   "cell_type": "code",
   "execution_count": 7,
   "outputs": [
    {
     "data": {
      "text/plain": "{'class_weight': None,\n 'learning_rate': 'optimal',\n 'loss': 'modified_huber',\n 'max_iter': 250,\n 'penalty': 'elasticnet',\n 'random_state': 42,\n 'tol': 1e-06}"
     },
     "execution_count": 7,
     "metadata": {},
     "output_type": "execute_result"
    }
   ],
   "source": [
    "search.best_params_"
   ],
   "metadata": {
    "collapsed": false
   }
  },
  {
   "cell_type": "code",
   "execution_count": 8,
   "outputs": [
    {
     "name": "stdout",
     "output_type": "stream",
     "text": [
      "Finished in: 0.03 seconds\n",
      "Accuracy: 87.16%\n",
      "Balanced Accuracy: 87.00%\n",
      "F1 Score: 0.86\n",
      "Precision: 0.86\n",
      "Recall: 0.87\n",
      "R2 Score: 0.44\n"
     ]
    }
   ],
   "source": [
    "train(SGDClassifier(\n",
    "    random_state=42,\n",
    "    class_weight='balanced',\n",
    "    loss='modified_huber',\n",
    "    tol=1e-6,\n",
    "    max_iter=250,\n",
    "    penalty='elasticnet',\n",
    "    learning_rate='optimal'\n",
    "), 'WESAD_preprocessed_int10_add10', TOP5_FEATURES)"
   ],
   "metadata": {
    "collapsed": false
   }
  },
  {
   "cell_type": "code",
   "execution_count": 9,
   "outputs": [
    {
     "name": "stdout",
     "output_type": "stream",
     "text": [
      "Finished in: 0.02 seconds\n",
      "Accuracy: 87.10%\n",
      "Balanced Accuracy: 87.01%\n",
      "F1 Score: 0.86\n",
      "Precision: 0.86\n",
      "Recall: 0.87\n",
      "R2 Score: 0.44\n"
     ]
    }
   ],
   "source": [
    "train(SGDClassifier(\n",
    "    random_state=42,\n",
    "    class_weight='balanced',\n",
    "    loss='modified_huber',\n",
    "    tol=1e-6,\n",
    "    max_iter=250,\n",
    "    penalty='l1',\n",
    "    learning_rate='optimal'\n",
    "), 'WESAD_preprocessed_int10_add15', TOP5_FEATURES)"
   ],
   "metadata": {
    "collapsed": false
   }
  },
  {
   "cell_type": "code",
   "execution_count": 15,
   "outputs": [
    {
     "name": "stdout",
     "output_type": "stream",
     "text": [
      "Finished in: 0.01 seconds\n",
      "Accuracy: 88.64%\n",
      "Balanced Accuracy: 86.72%\n",
      "F1 Score: 0.87\n",
      "Precision: 0.88\n",
      "Recall: 0.87\n",
      "R2 Score: 0.50\n"
     ]
    }
   ],
   "source": [
    "train(SGDClassifier(\n",
    "    random_state=42,\n",
    "    class_weight='balanced',\n",
    "    loss='modified_huber',\n",
    "    tol=0.00001,\n",
    "    max_iter=1000,\n",
    "    penalty='l1',\n",
    "    learning_rate='optimal'\n",
    "), 'WESAD_preprocessed_int15_add15', TOP5_FEATURES)"
   ],
   "metadata": {
    "collapsed": false
   }
  },
  {
   "cell_type": "code",
   "execution_count": 16,
   "outputs": [
    {
     "name": "stdout",
     "output_type": "stream",
     "text": [
      "Finished in: 0.01 seconds\n",
      "Accuracy: 90.45%\n",
      "Balanced Accuracy: 89.57%\n",
      "F1 Score: 0.90\n",
      "Precision: 0.90\n",
      "Recall: 0.90\n",
      "R2 Score: 0.58\n"
     ]
    }
   ],
   "source": [
    "train(SGDClassifier(\n",
    "    random_state=42,\n",
    "    class_weight='balanced',\n",
    "    loss='modified_huber',\n",
    "    tol=0.00001,\n",
    "    max_iter=1000,\n",
    "    penalty='l1',\n",
    "    learning_rate='optimal'\n",
    "), 'WESAD_preprocessed_int15_add15', TOP10_FEATURES)"
   ],
   "metadata": {
    "collapsed": false
   }
  },
  {
   "cell_type": "code",
   "execution_count": 17,
   "outputs": [
    {
     "name": "stdout",
     "output_type": "stream",
     "text": [
      "Finished in: 0.01 seconds\n",
      "Accuracy: 86.36%\n",
      "Balanced Accuracy: 86.40%\n",
      "F1 Score: 0.85\n",
      "Precision: 0.85\n",
      "Recall: 0.86\n",
      "R2 Score: 0.40\n"
     ]
    }
   ],
   "source": [
    "train(SGDClassifier(\n",
    "    random_state=42,\n",
    "    class_weight='balanced',\n",
    "    loss='modified_huber',\n",
    "    tol=0.00001,\n",
    "    max_iter=1000,\n",
    "    penalty='l1',\n",
    "    learning_rate='optimal'\n",
    "), 'WESAD_preprocessed_int15_add15', TOP_EDA_FEATURES)"
   ],
   "metadata": {
    "collapsed": false
   }
  }
 ],
 "metadata": {
  "kernelspec": {
   "display_name": "Python 3",
   "language": "python",
   "name": "python3"
  },
  "language_info": {
   "codemirror_mode": {
    "name": "ipython",
    "version": 2
   },
   "file_extension": ".py",
   "mimetype": "text/x-python",
   "name": "python",
   "nbconvert_exporter": "python",
   "pygments_lexer": "ipython2",
   "version": "2.7.6"
  }
 },
 "nbformat": 4,
 "nbformat_minor": 0
}
