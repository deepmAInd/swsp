{
 "cells": [
  {
   "cell_type": "code",
   "execution_count": 1,
   "metadata": {
    "collapsed": true
   },
   "outputs": [],
   "source": [
    "import os\n",
    "import time\n",
    "import pickle\n",
    "\n",
    "import numpy as np\n",
    "import pandas as pd\n",
    "\n",
    "import xgboost as xgb\n",
    "from sklearn import model_selection\n",
    "import sklearn.metrics as metrics"
   ]
  },
  {
   "cell_type": "code",
   "execution_count": 18,
   "outputs": [],
   "source": [
    "FEATURES = ['net_acc_std', 'net_acc_max', 'EDA_tonic_mean', 'EDA_tonic_min',  'EDA_tonic_max', 'label']\n",
    "STRESS = {\n",
    "    0: \"amusement\", 1: \"baseline\", 2: \"stress\"\n",
    "}\n",
    "STRESS_MAP = {\n",
    "    1: 0,\n",
    "    2: 1\n",
    "}"
   ],
   "metadata": {
    "collapsed": false
   }
  },
  {
   "cell_type": "code",
   "execution_count": 70,
   "outputs": [],
   "source": [
    "def prepare_dataset(dataset_name):\n",
    "    data = pd.read_csv(f'../../data/03_primary/{dataset_name}/combined_subjects.csv')\n",
    "    df = data.loc[:, data.columns.intersection(FEATURES)]\n",
    "    df = df[df.label != 0]\n",
    "    Y_ = df.label.map(STRESS_MAP)\n",
    "    X_ = df.drop(columns=['label'])\n",
    "    return model_selection.train_test_split(X_, Y_, test_size=0.25, random_state=42, stratify=Y_)"
   ],
   "metadata": {
    "collapsed": false
   }
  },
  {
   "cell_type": "code",
   "execution_count": 71,
   "outputs": [],
   "source": [
    "def train(m, dataset_name):\n",
    "    X, x, Y, y = prepare_dataset(dataset_name)\n",
    "    start_time = time.time()\n",
    "    result = m.fit(X, Y).predict(x)\n",
    "    print(f\"Finished in: {time.time() - start_time:.2f} seconds\")\n",
    "    print(\"Accuracy: {:.2f}%\".format(metrics.accuracy_score(y, result) * 100))\n",
    "    print(\"Precision: {0:.2f}\".format(metrics.precision_score(y, result, average='macro')))\n",
    "    print(\"Recall: {0:.2f}\".format(metrics.recall_score(y, result, average='macro')))\n",
    "    print(\"F1 Score: {0:.2f}\".format(metrics.f1_score(y, result, average='macro')))\n",
    "    print(\"R2 Score: {0:.2f}\".format(metrics.r2_score(y, result)))"
   ],
   "metadata": {
    "collapsed": false
   }
  },
  {
   "cell_type": "code",
   "execution_count": 72,
   "outputs": [
    {
     "name": "stdout",
     "output_type": "stream",
     "text": [
      "Finished in: 0.16 seconds\n",
      "Accuracy: 94.86%\n",
      "Precision: 0.94\n",
      "Recall: 0.95\n",
      "F1 Score: 0.94\n",
      "R2 Score: 0.78\n"
     ]
    }
   ],
   "source": [
    "train(xgb.XGBClassifier(objective=\"binary:logistic\", random_state=42), 'WESAD_preprocessed_int10_add10')"
   ],
   "metadata": {
    "collapsed": false
   }
  },
  {
   "cell_type": "code",
   "execution_count": 73,
   "outputs": [
    {
     "name": "stdout",
     "output_type": "stream",
     "text": [
      "Finished in: 0.16 seconds\n",
      "Accuracy: 95.60%\n",
      "Precision: 0.95\n",
      "Recall: 0.95\n",
      "F1 Score: 0.95\n",
      "R2 Score: 0.81\n"
     ]
    }
   ],
   "source": [
    "train(xgb.XGBClassifier(objective=\"binary:logistic\", random_state=42), 'WESAD_preprocessed_int10_add15')"
   ],
   "metadata": {
    "collapsed": false
   }
  },
  {
   "cell_type": "code",
   "execution_count": 74,
   "outputs": [
    {
     "name": "stdout",
     "output_type": "stream",
     "text": [
      "Finished in: 0.16 seconds\n",
      "Accuracy: 96.82%\n",
      "Precision: 0.97\n",
      "Recall: 0.97\n",
      "F1 Score: 0.97\n",
      "R2 Score: 0.86\n"
     ]
    }
   ],
   "source": [
    "train(xgb.XGBClassifier(objective=\"binary:logistic\", eta=0.1, random_state=42), 'WESAD_preprocessed_int15_add15')"
   ],
   "metadata": {
    "collapsed": false
   }
  }
 ],
 "metadata": {
  "kernelspec": {
   "display_name": "Python 3",
   "language": "python",
   "name": "python3"
  },
  "language_info": {
   "codemirror_mode": {
    "name": "ipython",
    "version": 2
   },
   "file_extension": ".py",
   "mimetype": "text/x-python",
   "name": "python",
   "nbconvert_exporter": "python",
   "pygments_lexer": "ipython2",
   "version": "2.7.6"
  }
 },
 "nbformat": 4,
 "nbformat_minor": 0
}
