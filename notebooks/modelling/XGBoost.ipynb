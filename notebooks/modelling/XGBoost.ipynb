{
 "cells": [
  {
   "cell_type": "code",
   "execution_count": 8,
   "metadata": {
    "collapsed": true
   },
   "outputs": [],
   "source": [
    "import os\n",
    "import time\n",
    "import pickle\n",
    "\n",
    "import numpy as np\n",
    "import pandas as pd\n",
    "\n",
    "import xgboost as xgb\n",
    "from sklearn import model_selection\n",
    "import sklearn.metrics as metrics"
   ]
  },
  {
   "cell_type": "code",
   "execution_count": 9,
   "outputs": [],
   "source": [
    "TOP5_FEATURES = ['net_acc_std', 'net_acc_max', 'EDA_tonic_mean', 'EDA_tonic_min',  'EDA_tonic_max', 'label']\n",
    "TOP10_FEATURES = [\n",
    "    \"net_acc_std\",\n",
    "    \"net_acc_max\",\n",
    "    \"EDA_tonic_mean\",\n",
    "    \"EDA_tonic_min\",\n",
    "    \"EDA_tonic_max\",\n",
    "    \"EDA_smna_mean\",\n",
    "    \"EDA_smna_std\",\n",
    "    \"EDA_smna_min\",\n",
    "    \"EDA_smna_max\",\n",
    "    \"EDA_phasic_min\",\n",
    "    \"label\"\n",
    "]\n",
    "TOP_EDA_FEATURES = [\"EDA_smna_mean\", \"EDA_phasic_min\", \"EDA_tonic_mean\", \"EDA_tonic_min\", \"EDA_tonic_max\", \"label\"]\n",
    "\n",
    "STRESS = {\n",
    "    0: \"amusement\", 1: \"baseline\", 2: \"stress\"\n",
    "}\n",
    "STRESS_MAP = {\n",
    "    1: 0,\n",
    "    2: 1\n",
    "}"
   ],
   "metadata": {
    "collapsed": false
   }
  },
  {
   "cell_type": "code",
   "execution_count": 10,
   "outputs": [],
   "source": [
    "def prepare_dataset(dataset_name, features):\n",
    "    data = pd.read_csv(f'../../data/03_primary/{dataset_name}/combined_subjects.csv')\n",
    "    df = data.loc[:, data.columns.intersection(features)]\n",
    "    df = df[df.label != 0]\n",
    "    Y_ = df.label.map(STRESS_MAP)\n",
    "    X_ = df.drop(columns=['label'])\n",
    "    return model_selection.train_test_split(X_, Y_, test_size=0.25, random_state=42, stratify=Y_)"
   ],
   "metadata": {
    "collapsed": false
   }
  },
  {
   "cell_type": "code",
   "execution_count": 11,
   "outputs": [],
   "source": [
    "def train(m, dataset_name, features):\n",
    "    X, x, Y, y = prepare_dataset(dataset_name, features)\n",
    "    start_time = time.time()\n",
    "    result = m.fit(X, Y).predict(x)\n",
    "    print(f\"Finished in: {time.time() - start_time:.2f} seconds\")\n",
    "    print(\"Accuracy: {:.2f}%\".format(metrics.accuracy_score(y, result) * 100))\n",
    "    print(\"Balanced Accuracy: {:.2f}%\".format(metrics.balanced_accuracy_score(y, result) * 100))\n",
    "    print(\"F1 Score: {0:.2f}\".format(metrics.f1_score(y, result, average='macro')))\n",
    "    print(\"Precision: {0:.2f}\".format(metrics.precision_score(y, result, average='macro')))\n",
    "    print(\"Recall: {0:.2f}\".format(metrics.recall_score(y, result, average='macro')))\n",
    "    print(\"R2 Score: {0:.2f}\".format(metrics.r2_score(y, result)))"
   ],
   "metadata": {
    "collapsed": false
   }
  },
  {
   "cell_type": "code",
   "execution_count": 12,
   "outputs": [
    {
     "name": "stdout",
     "output_type": "stream",
     "text": [
      "Finished in: 0.14 seconds\n",
      "Accuracy: 94.86%\n",
      "Balanced Accuracy: 94.69%\n",
      "F1 Score: 0.94\n",
      "Precision: 0.94\n",
      "Recall: 0.95\n",
      "R2 Score: 0.78\n"
     ]
    }
   ],
   "source": [
    "train(xgb.XGBClassifier(objective=\"binary:logistic\", random_state=42), 'WESAD_preprocessed_int10_add10', TOP5_FEATURES)"
   ],
   "metadata": {
    "collapsed": false
   }
  },
  {
   "cell_type": "code",
   "execution_count": 13,
   "outputs": [
    {
     "name": "stdout",
     "output_type": "stream",
     "text": [
      "Finished in: 0.12 seconds\n",
      "Accuracy: 95.60%\n",
      "Balanced Accuracy: 95.24%\n",
      "F1 Score: 0.95\n",
      "Precision: 0.95\n",
      "Recall: 0.95\n",
      "R2 Score: 0.81\n"
     ]
    }
   ],
   "source": [
    "train(xgb.XGBClassifier(objective=\"binary:logistic\", random_state=42), 'WESAD_preprocessed_int10_add15', TOP5_FEATURES)"
   ],
   "metadata": {
    "collapsed": false
   }
  },
  {
   "cell_type": "code",
   "execution_count": 14,
   "outputs": [
    {
     "name": "stdout",
     "output_type": "stream",
     "text": [
      "Finished in: 0.10 seconds\n",
      "Accuracy: 96.82%\n",
      "Balanced Accuracy: 96.52%\n",
      "F1 Score: 0.97\n",
      "Precision: 0.97\n",
      "Recall: 0.97\n",
      "R2 Score: 0.86\n"
     ]
    }
   ],
   "source": [
    "train(xgb.XGBClassifier(objective=\"binary:logistic\", eta=0.1, random_state=42), 'WESAD_preprocessed_int15_add15', TOP5_FEATURES)"
   ],
   "metadata": {
    "collapsed": false
   }
  },
  {
   "cell_type": "code",
   "execution_count": 15,
   "outputs": [
    {
     "name": "stdout",
     "output_type": "stream",
     "text": [
      "Finished in: 0.12 seconds\n",
      "Accuracy: 98.41%\n",
      "Balanced Accuracy: 98.33%\n",
      "F1 Score: 0.98\n",
      "Precision: 0.98\n",
      "Recall: 0.98\n",
      "R2 Score: 0.93\n"
     ]
    }
   ],
   "source": [
    "train(xgb.XGBClassifier(objective=\"binary:logistic\", eta=0.1, random_state=42), 'WESAD_preprocessed_int15_add15', TOP10_FEATURES)"
   ],
   "metadata": {
    "collapsed": false
   }
  },
  {
   "cell_type": "code",
   "execution_count": 16,
   "outputs": [
    {
     "name": "stdout",
     "output_type": "stream",
     "text": [
      "Finished in: 0.10 seconds\n",
      "Accuracy: 97.27%\n",
      "Balanced Accuracy: 97.17%\n",
      "F1 Score: 0.97\n",
      "Precision: 0.97\n",
      "Recall: 0.97\n",
      "R2 Score: 0.88\n"
     ]
    }
   ],
   "source": [
    "train(xgb.XGBClassifier(objective=\"binary:logistic\", eta=0.1, random_state=42), 'WESAD_preprocessed_int15_add15', TOP_EDA_FEATURES)"
   ],
   "metadata": {
    "collapsed": false
   }
  }
 ],
 "metadata": {
  "kernelspec": {
   "display_name": "Python 3",
   "language": "python",
   "name": "python3"
  },
  "language_info": {
   "codemirror_mode": {
    "name": "ipython",
    "version": 2
   },
   "file_extension": ".py",
   "mimetype": "text/x-python",
   "name": "python",
   "nbconvert_exporter": "python",
   "pygments_lexer": "ipython2",
   "version": "2.7.6"
  }
 },
 "nbformat": 4,
 "nbformat_minor": 0
}
